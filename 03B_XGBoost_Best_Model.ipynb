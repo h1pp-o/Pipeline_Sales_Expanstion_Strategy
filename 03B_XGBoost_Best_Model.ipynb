{
  "nbformat": 4,
  "nbformat_minor": 0,
  "metadata": {
    "colab": {
      "provenance": [],
      "include_colab_link": true
    },
    "kernelspec": {
      "name": "python3",
      "display_name": "Python 3"
    },
    "language_info": {
      "name": "python"
    }
  },
  "cells": [
    {
      "cell_type": "markdown",
      "metadata": {
        "id": "view-in-github",
        "colab_type": "text"
      },
      "source": [
        "<a href=\"https://colab.research.google.com/github/h1pp-o/Pipeline_Sales_Expanstion_Strategy/blob/main/03B_XGBoost_Best_Model.ipynb\" target=\"_parent\"><img src=\"https://colab.research.google.com/assets/colab-badge.svg\" alt=\"Open In Colab\"/></a>"
      ]
    },
    {
      "cell_type": "code",
      "source": [
        "'''\n",
        "This File Assumes:\n",
        "  \"7. Predictive Model Dataset.csv\" - The File Produced From \"02_Initial Cleaning.ipynb\"\n",
        "  This File Produces The Features Which We Will Be Used As Parameters For Our Optimization Analysis\n",
        "  By Using XGBoost for Binary Classification.\n",
        "'''"
      ],
      "metadata": {
        "id": "ozl3hkkTTwKe",
        "colab": {
          "base_uri": "https://localhost:8080/",
          "height": 53
        },
        "outputId": "c9d4c450-3528-459c-e51c-608bfc38e03e"
      },
      "execution_count": null,
      "outputs": [
        {
          "output_type": "execute_result",
          "data": {
            "text/plain": [
              "'\\nThis File Assumes:\\n  \"7. Predictive Model Dataset.csv\" - The File Produced From \"02_Initial Cleaning.ipynb\"\\n  This File Produces The Features Which We Will Be Used As Parameters For Our Optimization Analysis\\n  By Using XGBoost for Binary Classification.\\n'"
            ],
            "application/vnd.google.colaboratory.intrinsic+json": {
              "type": "string"
            }
          },
          "metadata": {},
          "execution_count": 1
        }
      ]
    },
    {
      "cell_type": "code",
      "execution_count": null,
      "metadata": {
        "id": "PfnyR71QXmzr",
        "colab": {
          "base_uri": "https://localhost:8080/"
        },
        "cellView": "form",
        "outputId": "bbd916ed-9bc0-4fa8-a615-bb8957974f99"
      },
      "outputs": [
        {
          "output_type": "stream",
          "name": "stdout",
          "text": [
            "Mounted at /content/drive\n"
          ]
        }
      ],
      "source": [
        "#@title Mount Drive\n",
        "from google.colab import drive\n",
        "drive.mount('/content/drive')"
      ]
    },
    {
      "cell_type": "code",
      "source": [
        "#@title Import Modules\n",
        "\n",
        "import os\n",
        "import numpy as np\n",
        "import pandas as pd\n",
        "import matplotlib.pyplot as plt\n",
        "import seaborn as sns\n",
        "from sklearn.metrics import (\n",
        "    accuracy_score, classification_report, confusion_matrix,\n",
        "    roc_auc_score, roc_curve, auc, fbeta_score, make_scorer\n",
        ")\n",
        "from sklearn.model_selection import (\n",
        "    train_test_split, cross_val_score, StratifiedKFold\n",
        ")\n",
        "from sklearn.preprocessing import MinMaxScaler, StandardScaler, OneHotEncoder\n",
        "from sklearn.compose import ColumnTransformer\n",
        "from sklearn.linear_model import LogisticRegression\n",
        "from sklearn.model_selection import train_test_split\n",
        "from imblearn.over_sampling import (\n",
        "    RandomOverSampler, SMOTE\n",
        ")\n",
        "from imblearn.under_sampling import RandomUnderSampler\n",
        "from imblearn.pipeline import Pipeline\n",
        "from xgboost import XGBClassifier\n",
        "from sklearn.inspection import permutation_importance"
      ],
      "metadata": {
        "id": "rZtgXcscX0SC",
        "cellView": "form"
      },
      "execution_count": null,
      "outputs": []
    },
    {
      "cell_type": "markdown",
      "source": [
        "# Halo Data"
      ],
      "metadata": {
        "id": "U5ARRlUUZDjx"
      }
    },
    {
      "cell_type": "code",
      "source": [
        "#@title Global Path Variables\n",
        "PATH = '/content/drive/Shareddrives/OPIM 5770/Files to Present To Torigen/Final Data Files'\n",
        "MODEL = '7. Predictive Model Dataset.csv'\n",
        "\n",
        "df = pd.read_csv(os.path.join(PATH,MODEL))"
      ],
      "metadata": {
        "id": "3j5FegHeZkGL"
      },
      "execution_count": null,
      "outputs": []
    },
    {
      "cell_type": "code",
      "source": [
        "#@title Global Dictionaries and Lists\n",
        "\n",
        "columns_to_keep = [\n",
        "                    'Company name',\n",
        "                    'Zip Code',\n",
        "                    'ConvertedCustomer',\n",
        "                    'Total Population',\n",
        "                    'Percent Age 5-14',\n",
        "                    'Halo Population',\n",
        "                    'Halo Income',\n",
        "                    'Halo Clinic Count',\n",
        "                    'Percentage of Graduate Degree'\n",
        "                    ]"
      ],
      "metadata": {
        "id": "EBbGFevNdXNc"
      },
      "execution_count": null,
      "outputs": []
    },
    {
      "cell_type": "code",
      "source": [
        "#@title Derive new columns\n",
        "\n",
        "df['Percentage of No High School Diploma'] = (df['Number No High School Diploma'] / df['Total Population']) * 100\n",
        "df['Percentage of High School Graduate'] = (df['Number High School Graduate'] / df['Total Population']) * 100\n",
        "df['Percentage of Bachelor Degree'] = (df['Number Bachelors Degree'] / df['Total Population']) * 100\n",
        "df['Percentage of Graduate Degree'] = (df['Number Graduate Degree'] / df['Total Population']) * 100"
      ],
      "metadata": {
        "id": "qBsr7b2TPLpy"
      },
      "execution_count": null,
      "outputs": []
    },
    {
      "cell_type": "code",
      "source": [
        "#@title ModelTable ETL\n",
        "\n",
        "df = (df\n",
        "              .rename(columns=lambda x: x.strip())\n",
        "              .query('Distance_Miles >= 0 and not `Mean Income`.isnull() and `Company State` not in [\"AK\", \"HI\"]')\n",
        "              .loc[:, columns_to_keep]\n",
        ")"
      ],
      "metadata": {
        "id": "X78SqeT4zZBs"
      },
      "execution_count": null,
      "outputs": []
    },
    {
      "cell_type": "markdown",
      "source": [
        "## Attempt to remove duplicate zip code"
      ],
      "metadata": {
        "id": "7Qgmb1ic6WwF"
      }
    },
    {
      "cell_type": "code",
      "source": [
        "# Convert 'Zip Code' to integer and left pad with zeros\n",
        "df['Zip Code'] = df['Zip Code'].fillna(0).astype(int)  # Fill NaN values with 0 and convert to int\n",
        "\n",
        "# Format the 'Zip Code' column to have leading zeros and be a string\n",
        "df['Zip Code'] = df['Zip Code'].apply(lambda x: str(x).zfill(5))"
      ],
      "metadata": {
        "id": "53qcElMZ7uxV"
      },
      "execution_count": null,
      "outputs": []
    },
    {
      "cell_type": "code",
      "source": [
        "# Count the occurrences of each unique ZIP code\n",
        "zip_code_counts = df['Zip Code'].value_counts()\n",
        "\n",
        "# Get the number of unique ZIP codes\n",
        "unique_zip_codes = len(zip_code_counts)\n",
        "\n",
        "print(\"Number of unique ZIP codes:\", unique_zip_codes)\n",
        "print(\"ZIP code counts for each unique ZIP code:\")\n",
        "print(zip_code_counts)"
      ],
      "metadata": {
        "colab": {
          "base_uri": "https://localhost:8080/"
        },
        "id": "4CtKO1CF7VDq",
        "outputId": "b29d39bd-0e6d-44e5-cf25-f4e8ef1dd309"
      },
      "execution_count": null,
      "outputs": [
        {
          "output_type": "stream",
          "name": "stdout",
          "text": [
            "Number of unique ZIP codes: 6029\n",
            "ZIP code counts for each unique ZIP code:\n",
            "34787    12\n",
            "30040    11\n",
            "30115    11\n",
            "32765    10\n",
            "78130    10\n",
            "         ..\n",
            "08360     1\n",
            "02145     1\n",
            "12414     1\n",
            "12477     1\n",
            "31763     1\n",
            "Name: Zip Code, Length: 6029, dtype: int64\n"
          ]
        }
      ]
    },
    {
      "cell_type": "code",
      "source": [
        "# Drop the 'Company name' column\n",
        "df = df.drop('Company name', axis=1)"
      ],
      "metadata": {
        "id": "t2oDBqccBMOo"
      },
      "execution_count": null,
      "outputs": []
    },
    {
      "cell_type": "code",
      "source": [
        "df.columns.tolist()"
      ],
      "metadata": {
        "colab": {
          "base_uri": "https://localhost:8080/"
        },
        "id": "ci-HUhAuApLr",
        "outputId": "842e5be1-2e4e-4d9a-b515-1b518c932d9a"
      },
      "execution_count": null,
      "outputs": [
        {
          "output_type": "execute_result",
          "data": {
            "text/plain": [
              "['Zip Code',\n",
              " 'ConvertedCustomer',\n",
              " 'Total Population',\n",
              " 'Percent Age 5-14',\n",
              " 'Halo Population',\n",
              " 'Halo Income',\n",
              " 'Halo Clinic Count',\n",
              " 'Percentage of Graduate Degree']"
            ]
          },
          "metadata": {},
          "execution_count": 10
        }
      ]
    },
    {
      "cell_type": "code",
      "source": [
        "df.shape"
      ],
      "metadata": {
        "colab": {
          "base_uri": "https://localhost:8080/"
        },
        "id": "1zTdlT5wB8WM",
        "outputId": "8cc1ac31-17d1-4349-fb97-aa1d1446d3db"
      },
      "execution_count": null,
      "outputs": [
        {
          "output_type": "execute_result",
          "data": {
            "text/plain": [
              "(10002, 8)"
            ]
          },
          "metadata": {},
          "execution_count": 11
        }
      ]
    },
    {
      "cell_type": "code",
      "source": [
        "df.head()"
      ],
      "metadata": {
        "id": "PXkvsTL9L79M",
        "outputId": "af885b47-6fa3-4dae-92c6-0e43295c4212",
        "colab": {
          "base_uri": "https://localhost:8080/",
          "height": 206
        }
      },
      "execution_count": null,
      "outputs": [
        {
          "output_type": "execute_result",
          "data": {
            "text/plain": [
              "  Zip Code  ConvertedCustomer  Total Population  Percent Age 5-14  \\\n",
              "0    06443                  0           17713.0              11.8   \n",
              "1    94520                  0           38383.0              11.9   \n",
              "2    11379                  0           37906.0              12.3   \n",
              "3    11375                  0           72851.0              10.0   \n",
              "4    11419                  0           47430.0               9.2   \n",
              "\n",
              "   Halo Population   Halo Income  Halo Clinic Count  \\\n",
              "0        4547851.0  5.672711e+11              177.0   \n",
              "1        8876813.0  1.337001e+12              244.0   \n",
              "2       20178387.0  2.576828e+12              329.0   \n",
              "3       20271099.0  2.586441e+12              326.0   \n",
              "4       20108496.0  2.568176e+12              323.0   \n",
              "\n",
              "   Percentage of Graduate Degree  \n",
              "0                      22.977474  \n",
              "1                       4.944897  \n",
              "2                      10.987706  \n",
              "3                      23.511002  \n",
              "4                       5.471221  "
            ],
            "text/html": [
              "\n",
              "  <div id=\"df-8f86a565-fddc-4a6e-b499-8ea2902671bf\" class=\"colab-df-container\">\n",
              "    <div>\n",
              "<style scoped>\n",
              "    .dataframe tbody tr th:only-of-type {\n",
              "        vertical-align: middle;\n",
              "    }\n",
              "\n",
              "    .dataframe tbody tr th {\n",
              "        vertical-align: top;\n",
              "    }\n",
              "\n",
              "    .dataframe thead th {\n",
              "        text-align: right;\n",
              "    }\n",
              "</style>\n",
              "<table border=\"1\" class=\"dataframe\">\n",
              "  <thead>\n",
              "    <tr style=\"text-align: right;\">\n",
              "      <th></th>\n",
              "      <th>Zip Code</th>\n",
              "      <th>ConvertedCustomer</th>\n",
              "      <th>Total Population</th>\n",
              "      <th>Percent Age 5-14</th>\n",
              "      <th>Halo Population</th>\n",
              "      <th>Halo Income</th>\n",
              "      <th>Halo Clinic Count</th>\n",
              "      <th>Percentage of Graduate Degree</th>\n",
              "    </tr>\n",
              "  </thead>\n",
              "  <tbody>\n",
              "    <tr>\n",
              "      <th>0</th>\n",
              "      <td>06443</td>\n",
              "      <td>0</td>\n",
              "      <td>17713.0</td>\n",
              "      <td>11.8</td>\n",
              "      <td>4547851.0</td>\n",
              "      <td>5.672711e+11</td>\n",
              "      <td>177.0</td>\n",
              "      <td>22.977474</td>\n",
              "    </tr>\n",
              "    <tr>\n",
              "      <th>1</th>\n",
              "      <td>94520</td>\n",
              "      <td>0</td>\n",
              "      <td>38383.0</td>\n",
              "      <td>11.9</td>\n",
              "      <td>8876813.0</td>\n",
              "      <td>1.337001e+12</td>\n",
              "      <td>244.0</td>\n",
              "      <td>4.944897</td>\n",
              "    </tr>\n",
              "    <tr>\n",
              "      <th>2</th>\n",
              "      <td>11379</td>\n",
              "      <td>0</td>\n",
              "      <td>37906.0</td>\n",
              "      <td>12.3</td>\n",
              "      <td>20178387.0</td>\n",
              "      <td>2.576828e+12</td>\n",
              "      <td>329.0</td>\n",
              "      <td>10.987706</td>\n",
              "    </tr>\n",
              "    <tr>\n",
              "      <th>3</th>\n",
              "      <td>11375</td>\n",
              "      <td>0</td>\n",
              "      <td>72851.0</td>\n",
              "      <td>10.0</td>\n",
              "      <td>20271099.0</td>\n",
              "      <td>2.586441e+12</td>\n",
              "      <td>326.0</td>\n",
              "      <td>23.511002</td>\n",
              "    </tr>\n",
              "    <tr>\n",
              "      <th>4</th>\n",
              "      <td>11419</td>\n",
              "      <td>0</td>\n",
              "      <td>47430.0</td>\n",
              "      <td>9.2</td>\n",
              "      <td>20108496.0</td>\n",
              "      <td>2.568176e+12</td>\n",
              "      <td>323.0</td>\n",
              "      <td>5.471221</td>\n",
              "    </tr>\n",
              "  </tbody>\n",
              "</table>\n",
              "</div>\n",
              "    <div class=\"colab-df-buttons\">\n",
              "\n",
              "  <div class=\"colab-df-container\">\n",
              "    <button class=\"colab-df-convert\" onclick=\"convertToInteractive('df-8f86a565-fddc-4a6e-b499-8ea2902671bf')\"\n",
              "            title=\"Convert this dataframe to an interactive table.\"\n",
              "            style=\"display:none;\">\n",
              "\n",
              "  <svg xmlns=\"http://www.w3.org/2000/svg\" height=\"24px\" viewBox=\"0 -960 960 960\">\n",
              "    <path d=\"M120-120v-720h720v720H120Zm60-500h600v-160H180v160Zm220 220h160v-160H400v160Zm0 220h160v-160H400v160ZM180-400h160v-160H180v160Zm440 0h160v-160H620v160ZM180-180h160v-160H180v160Zm440 0h160v-160H620v160Z\"/>\n",
              "  </svg>\n",
              "    </button>\n",
              "\n",
              "  <style>\n",
              "    .colab-df-container {\n",
              "      display:flex;\n",
              "      gap: 12px;\n",
              "    }\n",
              "\n",
              "    .colab-df-convert {\n",
              "      background-color: #E8F0FE;\n",
              "      border: none;\n",
              "      border-radius: 50%;\n",
              "      cursor: pointer;\n",
              "      display: none;\n",
              "      fill: #1967D2;\n",
              "      height: 32px;\n",
              "      padding: 0 0 0 0;\n",
              "      width: 32px;\n",
              "    }\n",
              "\n",
              "    .colab-df-convert:hover {\n",
              "      background-color: #E2EBFA;\n",
              "      box-shadow: 0px 1px 2px rgba(60, 64, 67, 0.3), 0px 1px 3px 1px rgba(60, 64, 67, 0.15);\n",
              "      fill: #174EA6;\n",
              "    }\n",
              "\n",
              "    .colab-df-buttons div {\n",
              "      margin-bottom: 4px;\n",
              "    }\n",
              "\n",
              "    [theme=dark] .colab-df-convert {\n",
              "      background-color: #3B4455;\n",
              "      fill: #D2E3FC;\n",
              "    }\n",
              "\n",
              "    [theme=dark] .colab-df-convert:hover {\n",
              "      background-color: #434B5C;\n",
              "      box-shadow: 0px 1px 3px 1px rgba(0, 0, 0, 0.15);\n",
              "      filter: drop-shadow(0px 1px 2px rgba(0, 0, 0, 0.3));\n",
              "      fill: #FFFFFF;\n",
              "    }\n",
              "  </style>\n",
              "\n",
              "    <script>\n",
              "      const buttonEl =\n",
              "        document.querySelector('#df-8f86a565-fddc-4a6e-b499-8ea2902671bf button.colab-df-convert');\n",
              "      buttonEl.style.display =\n",
              "        google.colab.kernel.accessAllowed ? 'block' : 'none';\n",
              "\n",
              "      async function convertToInteractive(key) {\n",
              "        const element = document.querySelector('#df-8f86a565-fddc-4a6e-b499-8ea2902671bf');\n",
              "        const dataTable =\n",
              "          await google.colab.kernel.invokeFunction('convertToInteractive',\n",
              "                                                    [key], {});\n",
              "        if (!dataTable) return;\n",
              "\n",
              "        const docLinkHtml = 'Like what you see? Visit the ' +\n",
              "          '<a target=\"_blank\" href=https://colab.research.google.com/notebooks/data_table.ipynb>data table notebook</a>'\n",
              "          + ' to learn more about interactive tables.';\n",
              "        element.innerHTML = '';\n",
              "        dataTable['output_type'] = 'display_data';\n",
              "        await google.colab.output.renderOutput(dataTable, element);\n",
              "        const docLink = document.createElement('div');\n",
              "        docLink.innerHTML = docLinkHtml;\n",
              "        element.appendChild(docLink);\n",
              "      }\n",
              "    </script>\n",
              "  </div>\n",
              "\n",
              "\n",
              "<div id=\"df-f60743fc-21d4-4cec-a4e9-945c96c62132\">\n",
              "  <button class=\"colab-df-quickchart\" onclick=\"quickchart('df-f60743fc-21d4-4cec-a4e9-945c96c62132')\"\n",
              "            title=\"Suggest charts\"\n",
              "            style=\"display:none;\">\n",
              "\n",
              "<svg xmlns=\"http://www.w3.org/2000/svg\" height=\"24px\"viewBox=\"0 0 24 24\"\n",
              "     width=\"24px\">\n",
              "    <g>\n",
              "        <path d=\"M19 3H5c-1.1 0-2 .9-2 2v14c0 1.1.9 2 2 2h14c1.1 0 2-.9 2-2V5c0-1.1-.9-2-2-2zM9 17H7v-7h2v7zm4 0h-2V7h2v10zm4 0h-2v-4h2v4z\"/>\n",
              "    </g>\n",
              "</svg>\n",
              "  </button>\n",
              "\n",
              "<style>\n",
              "  .colab-df-quickchart {\n",
              "      --bg-color: #E8F0FE;\n",
              "      --fill-color: #1967D2;\n",
              "      --hover-bg-color: #E2EBFA;\n",
              "      --hover-fill-color: #174EA6;\n",
              "      --disabled-fill-color: #AAA;\n",
              "      --disabled-bg-color: #DDD;\n",
              "  }\n",
              "\n",
              "  [theme=dark] .colab-df-quickchart {\n",
              "      --bg-color: #3B4455;\n",
              "      --fill-color: #D2E3FC;\n",
              "      --hover-bg-color: #434B5C;\n",
              "      --hover-fill-color: #FFFFFF;\n",
              "      --disabled-bg-color: #3B4455;\n",
              "      --disabled-fill-color: #666;\n",
              "  }\n",
              "\n",
              "  .colab-df-quickchart {\n",
              "    background-color: var(--bg-color);\n",
              "    border: none;\n",
              "    border-radius: 50%;\n",
              "    cursor: pointer;\n",
              "    display: none;\n",
              "    fill: var(--fill-color);\n",
              "    height: 32px;\n",
              "    padding: 0;\n",
              "    width: 32px;\n",
              "  }\n",
              "\n",
              "  .colab-df-quickchart:hover {\n",
              "    background-color: var(--hover-bg-color);\n",
              "    box-shadow: 0 1px 2px rgba(60, 64, 67, 0.3), 0 1px 3px 1px rgba(60, 64, 67, 0.15);\n",
              "    fill: var(--button-hover-fill-color);\n",
              "  }\n",
              "\n",
              "  .colab-df-quickchart-complete:disabled,\n",
              "  .colab-df-quickchart-complete:disabled:hover {\n",
              "    background-color: var(--disabled-bg-color);\n",
              "    fill: var(--disabled-fill-color);\n",
              "    box-shadow: none;\n",
              "  }\n",
              "\n",
              "  .colab-df-spinner {\n",
              "    border: 2px solid var(--fill-color);\n",
              "    border-color: transparent;\n",
              "    border-bottom-color: var(--fill-color);\n",
              "    animation:\n",
              "      spin 1s steps(1) infinite;\n",
              "  }\n",
              "\n",
              "  @keyframes spin {\n",
              "    0% {\n",
              "      border-color: transparent;\n",
              "      border-bottom-color: var(--fill-color);\n",
              "      border-left-color: var(--fill-color);\n",
              "    }\n",
              "    20% {\n",
              "      border-color: transparent;\n",
              "      border-left-color: var(--fill-color);\n",
              "      border-top-color: var(--fill-color);\n",
              "    }\n",
              "    30% {\n",
              "      border-color: transparent;\n",
              "      border-left-color: var(--fill-color);\n",
              "      border-top-color: var(--fill-color);\n",
              "      border-right-color: var(--fill-color);\n",
              "    }\n",
              "    40% {\n",
              "      border-color: transparent;\n",
              "      border-right-color: var(--fill-color);\n",
              "      border-top-color: var(--fill-color);\n",
              "    }\n",
              "    60% {\n",
              "      border-color: transparent;\n",
              "      border-right-color: var(--fill-color);\n",
              "    }\n",
              "    80% {\n",
              "      border-color: transparent;\n",
              "      border-right-color: var(--fill-color);\n",
              "      border-bottom-color: var(--fill-color);\n",
              "    }\n",
              "    90% {\n",
              "      border-color: transparent;\n",
              "      border-bottom-color: var(--fill-color);\n",
              "    }\n",
              "  }\n",
              "</style>\n",
              "\n",
              "  <script>\n",
              "    async function quickchart(key) {\n",
              "      const quickchartButtonEl =\n",
              "        document.querySelector('#' + key + ' button');\n",
              "      quickchartButtonEl.disabled = true;  // To prevent multiple clicks.\n",
              "      quickchartButtonEl.classList.add('colab-df-spinner');\n",
              "      try {\n",
              "        const charts = await google.colab.kernel.invokeFunction(\n",
              "            'suggestCharts', [key], {});\n",
              "      } catch (error) {\n",
              "        console.error('Error during call to suggestCharts:', error);\n",
              "      }\n",
              "      quickchartButtonEl.classList.remove('colab-df-spinner');\n",
              "      quickchartButtonEl.classList.add('colab-df-quickchart-complete');\n",
              "    }\n",
              "    (() => {\n",
              "      let quickchartButtonEl =\n",
              "        document.querySelector('#df-f60743fc-21d4-4cec-a4e9-945c96c62132 button');\n",
              "      quickchartButtonEl.style.display =\n",
              "        google.colab.kernel.accessAllowed ? 'block' : 'none';\n",
              "    })();\n",
              "  </script>\n",
              "</div>\n",
              "    </div>\n",
              "  </div>\n"
            ]
          },
          "metadata": {},
          "execution_count": 12
        }
      ]
    },
    {
      "cell_type": "markdown",
      "source": [
        "Make sure if the 'ConvertedCustomer' has at least one \"1\" make the unique retained row have \"1\""
      ],
      "metadata": {
        "id": "3aEOgHlgAcHj"
      }
    },
    {
      "cell_type": "code",
      "source": [
        "# Sort the DataFrame by 'ConvertedCustomer' in descending order, so rows with 1 come first\n",
        "df = df.sort_values(by='ConvertedCustomer', ascending=False)"
      ],
      "metadata": {
        "id": "21K9Jtdm_iFA"
      },
      "execution_count": null,
      "outputs": []
    },
    {
      "cell_type": "code",
      "source": [
        "# Then drop duplicates based on 'Zip Code' and keep the first occurrence (which has 1 if available, otherwise 0)\n",
        "df = df.drop_duplicates(subset='Zip Code', keep='first')"
      ],
      "metadata": {
        "id": "dXOcFAZ_B3tR"
      },
      "execution_count": null,
      "outputs": []
    },
    {
      "cell_type": "code",
      "source": [
        "# Reset the index of the DataFrame\n",
        "df = df.reset_index(drop=True)"
      ],
      "metadata": {
        "id": "Pm7iJL5FB5Kb"
      },
      "execution_count": null,
      "outputs": []
    },
    {
      "cell_type": "code",
      "source": [
        "df.shape"
      ],
      "metadata": {
        "colab": {
          "base_uri": "https://localhost:8080/"
        },
        "id": "rb_yqkUPCCRk",
        "outputId": "d1041fda-acbd-4b72-a875-2cc8ce2d800f"
      },
      "execution_count": null,
      "outputs": [
        {
          "output_type": "execute_result",
          "data": {
            "text/plain": [
              "(6029, 8)"
            ]
          },
          "metadata": {},
          "execution_count": 17
        }
      ]
    },
    {
      "cell_type": "code",
      "source": [
        "df['ConvertedCustomer'].value_counts()"
      ],
      "metadata": {
        "colab": {
          "base_uri": "https://localhost:8080/"
        },
        "id": "HvXW2oY2AT-F",
        "outputId": "132e11e4-beed-4a3e-f199-7e98a6d65d41"
      },
      "execution_count": null,
      "outputs": [
        {
          "output_type": "execute_result",
          "data": {
            "text/plain": [
              "0    4896\n",
              "1    1133\n",
              "Name: ConvertedCustomer, dtype: int64"
            ]
          },
          "metadata": {},
          "execution_count": 19
        }
      ]
    },
    {
      "cell_type": "code",
      "source": [
        "# Drop the 'Company name' column\n",
        "df = df.drop('Zip Code', axis=1)"
      ],
      "metadata": {
        "id": "97zinyNQClKU"
      },
      "execution_count": null,
      "outputs": []
    },
    {
      "cell_type": "code",
      "source": [
        "df.columns.tolist()"
      ],
      "metadata": {
        "colab": {
          "base_uri": "https://localhost:8080/"
        },
        "id": "Bgzv491GCpu-",
        "outputId": "a51cab43-7740-4305-c99e-3aa7e511d47a"
      },
      "execution_count": null,
      "outputs": [
        {
          "output_type": "execute_result",
          "data": {
            "text/plain": [
              "['ConvertedCustomer',\n",
              " 'Total Population',\n",
              " 'Percent Age 5-14',\n",
              " 'Halo Population',\n",
              " 'Halo Income',\n",
              " 'Halo Clinic Count',\n",
              " 'Percentage of Graduate Degree']"
            ]
          },
          "metadata": {},
          "execution_count": 22
        }
      ]
    },
    {
      "cell_type": "code",
      "source": [
        "#@title Pearson correlation coefficient\n",
        "# correlation_coefficient = df['Percent Age 5-14'].corr(df['ConvertedCustomer'])\n",
        "\n",
        "# print(f\"Pearson Correlation Coefficient: {correlation_coefficient}\")"
      ],
      "metadata": {
        "id": "iBPUSDmzFCCT",
        "cellView": "form"
      },
      "execution_count": null,
      "outputs": []
    },
    {
      "cell_type": "code",
      "source": [
        "#@title Modeling\n",
        "\n",
        "# Constants\n",
        "THRESHOLD = 0.5\n",
        "\n",
        "# Function to plot confusion matrix\n",
        "def plot_confusion_matrix(conf_matrix, title):\n",
        "    fig, ax = plt.subplots(figsize=(10, 5))\n",
        "    sns.heatmap(conf_matrix, annot=True, fmt='g', ax=ax)\n",
        "    ax.set_xlabel('Predicted labels')\n",
        "    ax.set_ylabel('Actual labels')\n",
        "    ax.set_title(title)\n",
        "    ax.xaxis.set_ticklabels(['Not Converted', 'Converted'])\n",
        "    ax.yaxis.set_ticklabels(['Not Converted', 'Converted'])\n",
        "    plt.show()\n",
        "\n",
        "# Load and preprocess data\n",
        "X = df.drop('ConvertedCustomer', axis=1)\n",
        "y = df['ConvertedCustomer']\n",
        "X_train, X_test, y_train, y_test = train_test_split(X, y, test_size=0.2, random_state=42)\n",
        "\n",
        "# Calculate class imbalance ratio\n",
        "class_imbalance_ratio = len(y_train[y_train == 1]) / len(y_train[y_train == 0])\n",
        "\n",
        "# Scale features using MinMaxScaler\n",
        "scaler = MinMaxScaler()\n",
        "X_train_scaled = scaler.fit_transform(X_train)\n",
        "X_test_scaled = scaler.transform(X_test)\n",
        "\n",
        "# # Export\n",
        "# import joblib\n",
        "# joblib.dump(scaler, os.path.join(PATH, 'scaler.gz'))\n",
        "\n",
        "# Oversample the minority class using SMOTE\n",
        "smote = SMOTE(sampling_strategy='auto', random_state=42)\n",
        "X_resampled, y_resampled = smote.fit_resample(X_train_scaled, y_train)\n",
        "\n",
        "# Define parameter grid for XGBoost (find parameters that maximize \"recall\"\n",
        "param_grid = {\n",
        "    'max_depth': [7, 10],\n",
        "    'learning_rate': [0.3],\n",
        "    'gamma': [0.5],\n",
        "    'subsample': [0.8],\n",
        "    'colsample_bytree': [0.6, 0.8],\n",
        "    'min_child_weight': [1]\n",
        "}\n",
        "\n",
        "# Create an XGBoost classifier\n",
        "best_xgb_classifier = XGBClassifier(\n",
        "    objective='binary:logistic',\n",
        "    nthread=4,\n",
        "    colsample_bytree=0.6,\n",
        "    gamma=0.5,\n",
        "    learning_rate=0.3,\n",
        "    max_depth=10,\n",
        "    min_child_weight=1,\n",
        "    subsample=0.8,\n",
        "    scale_pos_weight=class_imbalance_ratio\n",
        ")\n",
        "\n",
        "# Fit the classifier to resampled training data\n",
        "best_xgb_classifier.fit(X_resampled, y_resampled)\n",
        "\n",
        "# Make predictions on training data\n",
        "y_pred_train_prob = best_xgb_classifier.predict_proba(X_resampled)[:, 1]\n",
        "y_pred_train = (y_pred_train_prob > THRESHOLD).astype(int)\n",
        "\n",
        "# Calculate and plot confusion matrix for training data\n",
        "conf_matrix_train = confusion_matrix(y_true=y_resampled, y_pred=y_pred_train)\n",
        "print(\"Confusion Matrix (Training Data):\\n\", conf_matrix_train)\n",
        "plot_confusion_matrix(conf_matrix_train, \"Confusion Matrix (Training Data)\")\n",
        "\n",
        "# Print classification report for training data\n",
        "print(\"Classification Report (Training Data):\\n\", classification_report(y_resampled, y_pred_train))\n",
        "\n",
        "# Make predictions on test data\n",
        "y_pred_test_prob = best_xgb_classifier.predict_proba(X_test_scaled)[:, 1]\n",
        "y_pred_test = (y_pred_test_prob > THRESHOLD).astype(int)\n",
        "\n",
        "# Calculate and plot confusion matrix for test data\n",
        "conf_matrix_test = confusion_matrix(y_true=y_test, y_pred=y_pred_test)\n",
        "print(\"\\nConfusion Matrix (Test Data):\\n\", conf_matrix_test)\n",
        "plot_confusion_matrix(conf_matrix_test, \"Confusion Matrix (Test Data)\")\n",
        "\n",
        "# Print classification report for test data\n",
        "print(\"Classification Report (Test Data):\\n\", classification_report(y_test, y_pred_test))\n",
        "\n",
        "# Calculate permutation importance for the classifier on test data\n",
        "result = permutation_importance(best_xgb_classifier, X_test_scaled, y_test, n_repeats=10, random_state=42)\n",
        "perm_sorted_idx = result.importances_mean.argsort()[::-1][:5]\n",
        "\n",
        "# Sort the features based on tree-based feature importance\n",
        "tree_importance_sorted_idx = np.argsort(best_xgb_classifier.feature_importances_)\n",
        "tree_indices = np.arange(0, len(best_xgb_classifier.feature_importances_)) + 0.5\n",
        "\n",
        "# Create subplots to visualize feature importance and permutation importance\n",
        "fig, (ax1, ax2) = plt.subplots(1, 2, figsize=(15, 5))\n",
        "\n",
        "# Visualize tree-based feature importance\n",
        "ax1.barh(tree_indices, best_xgb_classifier.feature_importances_[tree_importance_sorted_idx], height=0.7)\n",
        "ax1.set_yticks(tree_indices)\n",
        "ax1.set_yticklabels(X_train.columns[tree_importance_sorted_idx])\n",
        "ax1.set_ylim((0, len(best_xgb_classifier.feature_importances_)))\n",
        "ax1.set_xlabel(\"Feature Importance Score\")\n",
        "ax1.set_title(\"Feature Importance\")\n",
        "\n",
        "# Visualize permutation importance\n",
        "ax2.boxplot(\n",
        "    result.importances[perm_sorted_idx].T[:, ::-1][:, :5],\n",
        "    vert=False,\n",
        "    labels=X_train.columns[perm_sorted_idx][::-1][:5],\n",
        ")\n",
        "ax2.set_xlabel(\"Change in Model Performance\")\n",
        "ax2.set_title(\"Top 5 Features using Permutation Importance\")\n",
        "\n",
        "# Display the subplots\n",
        "fig.tight_layout"
      ],
      "metadata": {
        "id": "cJgC3ikfSZ6H",
        "colab": {
          "base_uri": "https://localhost:8080/",
          "height": 1000
        },
        "outputId": "35a5ba1e-1afa-48ea-eb71-b6099749bc55"
      },
      "execution_count": null,
      "outputs": [
        {
          "output_type": "stream",
          "name": "stdout",
          "text": [
            "Confusion Matrix (Training Data):\n",
            " [[3937    3]\n",
            " [1343 2597]]\n"
          ]
        },
        {
          "output_type": "display_data",
          "data": {
            "text/plain": [
              "<Figure size 1000x500 with 2 Axes>"
            ],
            "image/png": "[encoded data removed]"
          },
          "metadata": {}
        },
        {
          "output_type": "stream",
          "name": "stdout",
          "text": [
            "Classification Report (Training Data):\n",
            "               precision    recall  f1-score   support\n",
            "\n",
            "           0       0.75      1.00      0.85      3940\n",
            "           1       1.00      0.66      0.79      3940\n",
            "\n",
            "    accuracy                           0.83      7880\n",
            "   macro avg       0.87      0.83      0.82      7880\n",
            "weighted avg       0.87      0.83      0.82      7880\n",
            "\n",
            "\n",
            "Confusion Matrix (Test Data):\n",
            " [[886  70]\n",
            " [219  31]]\n"
          ]
        },
        {
          "output_type": "display_data",
          "data": {
            "text/plain": [
              "<Figure size 1000x500 with 2 Axes>"
            ],
            "image/png": "[encoded data removed]"
          },
          "metadata": {}
        },
        {
          "output_type": "stream",
          "name": "stdout",
          "text": [
            "Classification Report (Test Data):\n",
            "               precision    recall  f1-score   support\n",
            "\n",
            "           0       0.80      0.93      0.86       956\n",
            "           1       0.31      0.12      0.18       250\n",
            "\n",
            "    accuracy                           0.76      1206\n",
            "   macro avg       0.55      0.53      0.52      1206\n",
            "weighted avg       0.70      0.76      0.72      1206\n",
            "\n"
          ]
        },
        {
          "output_type": "execute_result",
          "data": {
            "text/plain": [
              "<bound method Figure.tight_layout of <Figure size 1500x500 with 2 Axes>>"
            ]
          },
          "metadata": {},
          "execution_count": 23
        },
        {
          "output_type": "display_data",
          "data": {
            "text/plain": [
              "<Figure size 1500x500 with 2 Axes>"
            ],
            "image/png": "[encoded data removed]"
          },
          "metadata": {}
        }
      ]
    },
    {
      "cell_type": "code",
      "source": [
        "# pip install pdpbox\n"
      ],
      "metadata": {
        "id": "YW0p9JiRDZAt"
      },
      "execution_count": null,
      "outputs": []
    },
    {
      "cell_type": "code",
      "source": [
        "# sklearn.ensemble._forest\n",
        "\n",
        "# from sklearn.ensemble._partial_dependence import plot_partial_dependence\n",
        "# from sklearn.ensemble._partial_dependence import partial_dependence"
      ],
      "metadata": {
        "id": "4nrOWzcMEJYy"
      },
      "execution_count": null,
      "outputs": []
    },
    {
      "cell_type": "code",
      "source": [
        "def plot_partial_dependence(model, X, feature_name, plot_title):\n",
        "    pdp_goals = pdp.pdp_isolate(model=model, dataset=X, model_features=X.columns, feature=feature_name)\n",
        "    pdp.pdp_plot(pdp_goals, feature_name, plot_title)\n",
        "    plt.show()\n"
      ],
      "metadata": {
        "id": "WfNlZq3uDdk1"
      },
      "execution_count": null,
      "outputs": []
    },
    {
      "cell_type": "code",
      "source": [
        "#@title Feature Importance\n",
        "\n",
        "# Create a dataframe with feature names and their importance\n",
        "feature_importance_df = pd.DataFrame({\n",
        "    'Feature': X.columns,\n",
        "    'Importance': best_xgb_classifier.feature_importances_\n",
        "})\n",
        "\n",
        "# Sort the dataframe based on the importances\n",
        "feature_importance_df = feature_importance_df.sort_values(by='Importance', ascending=False)\n",
        "print(\"SUM(Importance) =\", feature_importance_df['Importance'].sum())\n",
        "feature_importance_df"
      ],
      "metadata": {
        "id": "ggcE6qaACSkl",
        "cellView": "form",
        "colab": {
          "base_uri": "https://localhost:8080/",
          "height": 256
        },
        "outputId": "1f5f1c1b-67ea-4d00-8bba-c88dbc815c51"
      },
      "execution_count": null,
      "outputs": [
        {
          "output_type": "stream",
          "name": "stdout",
          "text": [
            "SUM(Importance) = 1.0\n"
          ]
        },
        {
          "output_type": "execute_result",
          "data": {
            "text/plain": [
              "                         Feature  Importance\n",
              "1               Percent Age 5-14    0.203382\n",
              "2                Halo Population    0.173093\n",
              "3                    Halo Income    0.166883\n",
              "4              Halo Clinic Count    0.160705\n",
              "0               Total Population    0.149319\n",
              "5  Percentage of Graduate Degree    0.146618"
            ],
            "text/html": [
              "\n",
              "  <div id=\"df-aaa353db-13bc-4868-98be-6aa17e96594c\" class=\"colab-df-container\">\n",
              "    <div>\n",
              "<style scoped>\n",
              "    .dataframe tbody tr th:only-of-type {\n",
              "        vertical-align: middle;\n",
              "    }\n",
              "\n",
              "    .dataframe tbody tr th {\n",
              "        vertical-align: top;\n",
              "    }\n",
              "\n",
              "    .dataframe thead th {\n",
              "        text-align: right;\n",
              "    }\n",
              "</style>\n",
              "<table border=\"1\" class=\"dataframe\">\n",
              "  <thead>\n",
              "    <tr style=\"text-align: right;\">\n",
              "      <th></th>\n",
              "      <th>Feature</th>\n",
              "      <th>Importance</th>\n",
              "    </tr>\n",
              "  </thead>\n",
              "  <tbody>\n",
              "    <tr>\n",
              "      <th>1</th>\n",
              "      <td>Percent Age 5-14</td>\n",
              "      <td>0.203382</td>\n",
              "    </tr>\n",
              "    <tr>\n",
              "      <th>2</th>\n",
              "      <td>Halo Population</td>\n",
              "      <td>0.173093</td>\n",
              "    </tr>\n",
              "    <tr>\n",
              "      <th>3</th>\n",
              "      <td>Halo Income</td>\n",
              "      <td>0.166883</td>\n",
              "    </tr>\n",
              "    <tr>\n",
              "      <th>4</th>\n",
              "      <td>Halo Clinic Count</td>\n",
              "      <td>0.160705</td>\n",
              "    </tr>\n",
              "    <tr>\n",
              "      <th>0</th>\n",
              "      <td>Total Population</td>\n",
              "      <td>0.149319</td>\n",
              "    </tr>\n",
              "    <tr>\n",
              "      <th>5</th>\n",
              "      <td>Percentage of Graduate Degree</td>\n",
              "      <td>0.146618</td>\n",
              "    </tr>\n",
              "  </tbody>\n",
              "</table>\n",
              "</div>\n",
              "    <div class=\"colab-df-buttons\">\n",
              "\n",
              "  <div class=\"colab-df-container\">\n",
              "    <button class=\"colab-df-convert\" onclick=\"convertToInteractive('df-aaa353db-13bc-4868-98be-6aa17e96594c')\"\n",
              "            title=\"Convert this dataframe to an interactive table.\"\n",
              "            style=\"display:none;\">\n",
              "\n",
              "  <svg xmlns=\"http://www.w3.org/2000/svg\" height=\"24px\" viewBox=\"0 -960 960 960\">\n",
              "    <path d=\"M120-120v-720h720v720H120Zm60-500h600v-160H180v160Zm220 220h160v-160H400v160Zm0 220h160v-160H400v160ZM180-400h160v-160H180v160Zm440 0h160v-160H620v160ZM180-180h160v-160H180v160Zm440 0h160v-160H620v160Z\"/>\n",
              "  </svg>\n",
              "    </button>\n",
              "\n",
              "  <style>\n",
              "    .colab-df-container {\n",
              "      display:flex;\n",
              "      gap: 12px;\n",
              "    }\n",
              "\n",
              "    .colab-df-convert {\n",
              "      background-color: #E8F0FE;\n",
              "      border: none;\n",
              "      border-radius: 50%;\n",
              "      cursor: pointer;\n",
              "      display: none;\n",
              "      fill: #1967D2;\n",
              "      height: 32px;\n",
              "      padding: 0 0 0 0;\n",
              "      width: 32px;\n",
              "    }\n",
              "\n",
              "    .colab-df-convert:hover {\n",
              "      background-color: #E2EBFA;\n",
              "      box-shadow: 0px 1px 2px rgba(60, 64, 67, 0.3), 0px 1px 3px 1px rgba(60, 64, 67, 0.15);\n",
              "      fill: #174EA6;\n",
              "    }\n",
              "\n",
              "    .colab-df-buttons div {\n",
              "      margin-bottom: 4px;\n",
              "    }\n",
              "\n",
              "    [theme=dark] .colab-df-convert {\n",
              "      background-color: #3B4455;\n",
              "      fill: #D2E3FC;\n",
              "    }\n",
              "\n",
              "    [theme=dark] .colab-df-convert:hover {\n",
              "      background-color: #434B5C;\n",
              "      box-shadow: 0px 1px 3px 1px rgba(0, 0, 0, 0.15);\n",
              "      filter: drop-shadow(0px 1px 2px rgba(0, 0, 0, 0.3));\n",
              "      fill: #FFFFFF;\n",
              "    }\n",
              "  </style>\n",
              "\n",
              "    <script>\n",
              "      const buttonEl =\n",
              "        document.querySelector('#df-aaa353db-13bc-4868-98be-6aa17e96594c button.colab-df-convert');\n",
              "      buttonEl.style.display =\n",
              "        google.colab.kernel.accessAllowed ? 'block' : 'none';\n",
              "\n",
              "      async function convertToInteractive(key) {\n",
              "        const element = document.querySelector('#df-aaa353db-13bc-4868-98be-6aa17e96594c');\n",
              "        const dataTable =\n",
              "          await google.colab.kernel.invokeFunction('convertToInteractive',\n",
              "                                                    [key], {});\n",
              "        if (!dataTable) return;\n",
              "\n",
              "        const docLinkHtml = 'Like what you see? Visit the ' +\n",
              "          '<a target=\"_blank\" href=https://colab.research.google.com/notebooks/data_table.ipynb>data table notebook</a>'\n",
              "          + ' to learn more about interactive tables.';\n",
              "        element.innerHTML = '';\n",
              "        dataTable['output_type'] = 'display_data';\n",
              "        await google.colab.output.renderOutput(dataTable, element);\n",
              "        const docLink = document.createElement('div');\n",
              "        docLink.innerHTML = docLinkHtml;\n",
              "        element.appendChild(docLink);\n",
              "      }\n",
              "    </script>\n",
              "  </div>\n",
              "\n",
              "\n",
              "<div id=\"df-be30caa0-18e8-42bb-bba8-5888d8d92909\">\n",
              "  <button class=\"colab-df-quickchart\" onclick=\"quickchart('df-be30caa0-18e8-42bb-bba8-5888d8d92909')\"\n",
              "            title=\"Suggest charts.\"\n",
              "            style=\"display:none;\">\n",
              "\n",
              "<svg xmlns=\"http://www.w3.org/2000/svg\" height=\"24px\"viewBox=\"0 0 24 24\"\n",
              "     width=\"24px\">\n",
              "    <g>\n",
              "        <path d=\"M19 3H5c-1.1 0-2 .9-2 2v14c0 1.1.9 2 2 2h14c1.1 0 2-.9 2-2V5c0-1.1-.9-2-2-2zM9 17H7v-7h2v7zm4 0h-2V7h2v10zm4 0h-2v-4h2v4z\"/>\n",
              "    </g>\n",
              "</svg>\n",
              "  </button>\n",
              "\n",
              "<style>\n",
              "  .colab-df-quickchart {\n",
              "      --bg-color: #E8F0FE;\n",
              "      --fill-color: #1967D2;\n",
              "      --hover-bg-color: #E2EBFA;\n",
              "      --hover-fill-color: #174EA6;\n",
              "      --disabled-fill-color: #AAA;\n",
              "      --disabled-bg-color: #DDD;\n",
              "  }\n",
              "\n",
              "  [theme=dark] .colab-df-quickchart {\n",
              "      --bg-color: #3B4455;\n",
              "      --fill-color: #D2E3FC;\n",
              "      --hover-bg-color: #434B5C;\n",
              "      --hover-fill-color: #FFFFFF;\n",
              "      --disabled-bg-color: #3B4455;\n",
              "      --disabled-fill-color: #666;\n",
              "  }\n",
              "\n",
              "  .colab-df-quickchart {\n",
              "    background-color: var(--bg-color);\n",
              "    border: none;\n",
              "    border-radius: 50%;\n",
              "    cursor: pointer;\n",
              "    display: none;\n",
              "    fill: var(--fill-color);\n",
              "    height: 32px;\n",
              "    padding: 0;\n",
              "    width: 32px;\n",
              "  }\n",
              "\n",
              "  .colab-df-quickchart:hover {\n",
              "    background-color: var(--hover-bg-color);\n",
              "    box-shadow: 0 1px 2px rgba(60, 64, 67, 0.3), 0 1px 3px 1px rgba(60, 64, 67, 0.15);\n",
              "    fill: var(--button-hover-fill-color);\n",
              "  }\n",
              "\n",
              "  .colab-df-quickchart-complete:disabled,\n",
              "  .colab-df-quickchart-complete:disabled:hover {\n",
              "    background-color: var(--disabled-bg-color);\n",
              "    fill: var(--disabled-fill-color);\n",
              "    box-shadow: none;\n",
              "  }\n",
              "\n",
              "  .colab-df-spinner {\n",
              "    border: 2px solid var(--fill-color);\n",
              "    border-color: transparent;\n",
              "    border-bottom-color: var(--fill-color);\n",
              "    animation:\n",
              "      spin 1s steps(1) infinite;\n",
              "  }\n",
              "\n",
              "  @keyframes spin {\n",
              "    0% {\n",
              "      border-color: transparent;\n",
              "      border-bottom-color: var(--fill-color);\n",
              "      border-left-color: var(--fill-color);\n",
              "    }\n",
              "    20% {\n",
              "      border-color: transparent;\n",
              "      border-left-color: var(--fill-color);\n",
              "      border-top-color: var(--fill-color);\n",
              "    }\n",
              "    30% {\n",
              "      border-color: transparent;\n",
              "      border-left-color: var(--fill-color);\n",
              "      border-top-color: var(--fill-color);\n",
              "      border-right-color: var(--fill-color);\n",
              "    }\n",
              "    40% {\n",
              "      border-color: transparent;\n",
              "      border-right-color: var(--fill-color);\n",
              "      border-top-color: var(--fill-color);\n",
              "    }\n",
              "    60% {\n",
              "      border-color: transparent;\n",
              "      border-right-color: var(--fill-color);\n",
              "    }\n",
              "    80% {\n",
              "      border-color: transparent;\n",
              "      border-right-color: var(--fill-color);\n",
              "      border-bottom-color: var(--fill-color);\n",
              "    }\n",
              "    90% {\n",
              "      border-color: transparent;\n",
              "      border-bottom-color: var(--fill-color);\n",
              "    }\n",
              "  }\n",
              "</style>\n",
              "\n",
              "  <script>\n",
              "    async function quickchart(key) {\n",
              "      const quickchartButtonEl =\n",
              "        document.querySelector('#' + key + ' button');\n",
              "      quickchartButtonEl.disabled = true;  // To prevent multiple clicks.\n",
              "      quickchartButtonEl.classList.add('colab-df-spinner');\n",
              "      try {\n",
              "        const charts = await google.colab.kernel.invokeFunction(\n",
              "            'suggestCharts', [key], {});\n",
              "      } catch (error) {\n",
              "        console.error('Error during call to suggestCharts:', error);\n",
              "      }\n",
              "      quickchartButtonEl.classList.remove('colab-df-spinner');\n",
              "      quickchartButtonEl.classList.add('colab-df-quickchart-complete');\n",
              "    }\n",
              "    (() => {\n",
              "      let quickchartButtonEl =\n",
              "        document.querySelector('#df-be30caa0-18e8-42bb-bba8-5888d8d92909 button');\n",
              "      quickchartButtonEl.style.display =\n",
              "        google.colab.kernel.accessAllowed ? 'block' : 'none';\n",
              "    })();\n",
              "  </script>\n",
              "</div>\n",
              "    </div>\n",
              "  </div>\n"
            ]
          },
          "metadata": {},
          "execution_count": 10
        }
      ]
    }
  ]
}